{
 "cells": [
  {
   "cell_type": "code",
   "execution_count": 22,
   "metadata": {},
   "outputs": [
    {
     "name": "stdout",
     "output_type": "stream",
     "text": [
      "2025-05-25\n"
     ]
    }
   ],
   "source": [
    "from datetime import datetime\n",
    "\n",
    "# Get today's date in 'YYYY-MM-DD' format\n",
    "today_date = datetime.today().strftime('%Y-%m-%d')\n",
    "print(today_date)"
   ]
  },
  {
   "cell_type": "code",
   "execution_count": 23,
   "metadata": {},
   "outputs": [
    {
     "name": "stderr",
     "output_type": "stream",
     "text": [
      "[*********************100%***********************]  1 of 1 completed"
     ]
    },
    {
     "name": "stdout",
     "output_type": "stream",
     "text": [
      "Saved clean daily data to: AAPL_daily_data.csv\n"
     ]
    },
    {
     "name": "stderr",
     "output_type": "stream",
     "text": [
      "\n"
     ]
    }
   ],
   "source": [
    "import yfinance as yf\n",
    "\n",
    "# Define parameters\n",
    "symbol = 'AAPL'\n",
    "start_date = '2000-01-01'\n",
    "end_date = today_date\n",
    "output_filename = f'{symbol}_daily_data.csv'\n",
    "\n",
    "# Download data (make sure to not pass a list)\n",
    "data = yf.download(symbol, start=start_date, end=end_date, interval='1d')\n",
    "\n",
    "# Reset index to make 'Date' a column\n",
    "data.reset_index(inplace=True)\n",
    "\n",
    "# Save to clean CSV\n",
    "data.to_csv(output_filename, index=False)\n",
    "\n",
    "print(f\"Saved clean daily data to: {output_filename}\")\n"
   ]
  },
  {
   "cell_type": "code",
   "execution_count": 24,
   "metadata": {},
   "outputs": [
    {
     "name": "stderr",
     "output_type": "stream",
     "text": [
      "[*********************100%***********************]  1 of 1 completed"
     ]
    },
    {
     "name": "stdout",
     "output_type": "stream",
     "text": [
      "Saved clean daily data to: IBM_daily_data.csv\n"
     ]
    },
    {
     "name": "stderr",
     "output_type": "stream",
     "text": [
      "\n"
     ]
    }
   ],
   "source": [
    "import yfinance as yf\n",
    "\n",
    "# Define parameters\n",
    "symbol = 'IBM'\n",
    "start_date = '2000-01-01'\n",
    "end_date = today_date\n",
    "output_filename = f'{symbol}_daily_data.csv'\n",
    "\n",
    "# Download data (make sure to not pass a list)\n",
    "data = yf.download(symbol, start=start_date, end=end_date, interval='1d')\n",
    "\n",
    "# Reset index to make 'Date' a column\n",
    "data.reset_index(inplace=True)\n",
    "\n",
    "# Save to clean CSV\n",
    "data.to_csv(output_filename, index=False)\n",
    "\n",
    "print(f\"Saved clean daily data to: {output_filename}\")\n"
   ]
  },
  {
   "cell_type": "code",
   "execution_count": null,
   "metadata": {},
   "outputs": [],
   "source": []
  }
 ],
 "metadata": {
  "kernelspec": {
   "display_name": ".venv",
   "language": "python",
   "name": "python3"
  },
  "language_info": {
   "codemirror_mode": {
    "name": "ipython",
    "version": 3
   },
   "file_extension": ".py",
   "mimetype": "text/x-python",
   "name": "python",
   "nbconvert_exporter": "python",
   "pygments_lexer": "ipython3",
   "version": "3.11.2"
  }
 },
 "nbformat": 4,
 "nbformat_minor": 2
}
