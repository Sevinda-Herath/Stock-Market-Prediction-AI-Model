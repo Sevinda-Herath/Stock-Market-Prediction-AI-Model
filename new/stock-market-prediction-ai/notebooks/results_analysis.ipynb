{
 "cells": [
  {
   "cell_type": "markdown",
   "metadata": {},
   "source": [
    "# Results Analysis\n",
    "\n",
    "This notebook analyzes the results of various AI/ML models used for stock market predictions. The models evaluated include Linear Regression, XGBoost, Random Forest, LSTM, and Transformer-based Time Series Model. The analysis will cover performance metrics and visualizations for different time periods (3 months, 6 months, 12 months, 24 months, and 36 months)."
   ]
  },
  {
   "cell_type": "code",
   "execution_count": null,
   "metadata": {
    "collapsed": false
   },
   "outputs": [],
   "source": [
    "# Import necessary libraries\n",
    "import pandas as pd\n",
    "import matplotlib.pyplot as plt\n",
    "import seaborn as sns\n",
    "\n",
    "# Set visualization style\n",
    "sns.set(style='whitegrid')\n",
    "\n",
    "# Load the results from the saved metrics\n",
    "results_df = pd.read_csv('../results/metrics/model_results.csv')\n",
    "\n",
    "# Display the first few rows of the results dataframe\n",
    "results_df.head()"
   ]
  },
  {
   "cell_type": "code",
   "execution_count": null,
   "metadata": {
    "collapsed": false
   },
   "outputs": [],
   "source": [
    "# Function to plot model performance metrics\n",
    "def plot_model_performance(results_df):\n",
    "    plt.figure(figsize=(12, 6))\n",
    "    sns.barplot(data=results_df, x='Model', y='RMSE', hue='Time Period')\n",
    "    plt.title('Model Performance Comparison')\n",
    "    plt.ylabel('Root Mean Squared Error (RMSE)')\n",
    "    plt.xlabel('Model')\n",
    "    plt.legend(title='Time Period')\n",
    "    plt.xticks(rotation=45)\n",
    "    plt.tight_layout()\n",
    "    plt.show()\n",
    "\n",
    "# Call the function to plot the performance\n",
    "plot_model_performance(results_df)"
   ]
  },
  {
   "cell_type": "code",
   "execution_count": null,
   "metadata": {
    "collapsed": false
   },
   "outputs": [],
   "source": [
    "# Function to visualize predictions vs actual values\n",
    "def plot_predictions_vs_actual(model_name, time_period):\n",
    "    predictions_df = pd.read_csv(f'../results/plots/{model_name}_{time_period}_predictions.csv')\n",
    "    plt.figure(figsize=(14, 7))\n",
    "    plt.plot(predictions_df['Date'], predictions_df['Actual'], label='Actual', color='blue')\n",
    "    plt.plot(predictions_df['Date'], predictions_df['Predicted'], label='Predicted', color='orange')\n",
    "    plt.title(f'{model_name} Predictions vs Actual for {time_period}')\n",
    "    plt.xlabel('Date')\n",
    "    plt.ylabel('Stock Price')\n",
    "    plt.legend()\n",
    "    plt.xticks(rotation=45)\n",
    "    plt.tight_layout()\n",
    "    plt.show()\n",
    "\n",
    "# Example of plotting predictions for a specific model and time period\n",
    "plot_predictions_vs_actual('Linear Regression', '12 months')"
   ]
  },
  {
   "cell_type": "markdown",
   "metadata": {},
   "source": [
    "## Conclusion\n",
    "\n",
    "In this notebook, we analyzed the performance of various AI/ML models for stock market predictions. The visualizations provided insights into how each model performed across different time periods. Further analysis can be conducted to refine the models and improve prediction accuracy."
   ]
  }
 ],
 "metadata": {
  "kernelspec": {
   "display_name": "Python 3",
   "language": "python",
   "name": "python3"
  },
  "language_info": {
   "codemirror_mode": {
    "name": "ipython",
    "version": 3
   },
   "file_extension": ".py",
   "mimetype": "text/x-python",
   "name": "python",
   "nbconvert_exporter": "python",
   "pygments_lexer": "ipython3",
   "version": "3.8.5"
  }
 },
 "nbformat": 4,
 "nbformat_minor": 4
}