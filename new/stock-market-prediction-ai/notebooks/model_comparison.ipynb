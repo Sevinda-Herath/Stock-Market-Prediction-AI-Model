{
 "cells": [
  {
   "cell_type": "markdown",
   "metadata": {},
   "source": [
    "# Model Comparison for Stock Market Prediction\n",
    "\n",
    "This notebook evaluates various AI/ML models for stock market predictions using Microsoft stock data from Yahoo Finance. The models compared include:\n",
    "- Linear Regression\n",
    "- XGBoost\n",
    "- Random Forest\n",
    "- LSTM\n",
    "- Transformer-based Time Series Model\n",
    "\n",
    "Each model will be trained on different time periods: 3 months, 6 months, 12 months, 24 months, and 36 months."
   ]
  },
  {
   "cell_type": "code",
   "execution_count": null,
   "metadata": {},
   "outputs": [],
   "source": [
    "# Import necessary libraries\n",
    "import pandas as pd\n",
    "import numpy as np\n",
    "import matplotlib.pyplot as plt\n",
    "import seaborn as sns\n",
    "\n",
    "# Import custom modules\n",
    "from src.data.data_loader import load_data\n",
    "from src.data.data_preprocessor import preprocess_data\n",
    "from src.models.linear_regression import LinearRegressionModel\n",
    "from src.models.xgboost_model import XGBoostModel\n",
    "from src.models.random_forest import RandomForestModel\n",
    "from src.models.lstm_model import LSTMModel\n",
    "from src.models.transformer_model import TransformerModel\n",
    "from src.evaluation.metrics import calculate_metrics\n",
    "from src.evaluation.visualizations import plot_results\n",
    "from src.training.time_period_trainer import train_models_on_time_periods\n",
    "\n",
    "# Load and preprocess data\n",
    "data = load_data('MSFT')  # Load Microsoft stock data\n",
    "processed_data = preprocess_data(data)  # Preprocess the data\n",
    "\n",
    "# Define time periods for training\n",
    "time_periods = [3, 6, 12, 24, 36]  # in months\n",
    "\n",
    "# Initialize models\n",
    "models = {\n",
    "    'Linear Regression': LinearRegressionModel(),\n",
    "    'XGBoost': XGBoostModel(),\n",
    "    'Random Forest': RandomForestModel(),\n",
    "    'LSTM': LSTMModel(),\n",
    "    'Transformer': TransformerModel()\n",
    "}\n",
    "\n",
    "# Train models on different time periods and evaluate\n",
    "results = {}\n",
    "for period in time_periods:\n",
    "    print(f'Training models for {period} months...')\n",
    "    results[period] = train_models_on_time_periods(processed_data, models, period)\n",
    "\n",
    "# Evaluate and visualize results\n",
    "for period, metrics in results.items():\n",
    "    print(f'Performance metrics for {period} months:')\n",
    "    for model_name, metric in metrics.items():\n",
    "        print(f'{model_name}: {metric}')\n",
    "        plot_results(metric['predictions'], metric['actual'], model_name, period)\n"
   ]
  }
 ],
 "metadata": {
  "kernelspec": {
   "display_name": "Python 3",
   "language": "python",
   "name": "python3"
  },
  "language_info": {
   "codemirror_mode": {
    "name": "ipython",
    "version": 3
   },
   "file_extension": ".py",
   "mimetype": "text/x-python",
   "name": "python",
   "nbconvert_exporter": "python",
   "pygments_lexer": "ipython3",
   "version": "3.8.5"
  }
 },
 "nbformat": 4,
 "nbformat_minor": 4
}