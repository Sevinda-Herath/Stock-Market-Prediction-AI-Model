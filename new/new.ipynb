{
 "cells": [
  {
   "cell_type": "markdown",
   "id": "43ccbe15",
   "metadata": {},
   "source": [
    "Models\n",
    "- Linear Regression\n",
    "- XGBoost\n",
    "- Random Forest\n",
    "- LSTM\n",
    "- Transformer-based Time Series Model"
   ]
  },
  {
   "cell_type": "markdown",
   "id": "029f3bf9",
   "metadata": {},
   "source": []
  }
 ],
 "metadata": {
  "kernelspec": {
   "display_name": "myenv",
   "language": "python",
   "name": "python3"
  },
  "language_info": {
   "codemirror_mode": {
    "name": "ipython",
    "version": 3
   },
   "file_extension": ".py",
   "mimetype": "text/x-python",
   "name": "python",
   "nbconvert_exporter": "python",
   "pygments_lexer": "ipython3",
   "version": "3.12.1"
  }
 },
 "nbformat": 4,
 "nbformat_minor": 5
}
